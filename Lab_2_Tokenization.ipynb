{
  "cells": [
    {
      "cell_type": "markdown",
      "metadata": {
        "id": "YANmLP0cn_8T"
      },
      "source": [
        "NOMBRES: Diego Sebastián\n",
        "\n",
        "APELLIDOS: Franco Arévalo\n",
        "\n",
        "CARNE: 21484\n",
        "\n",
        "FECHA: 28/07/2025"
      ]
    },
    {
      "cell_type": "markdown",
      "metadata": {
        "id": "u67-zVshvGaD"
      },
      "source": [
        "**Comentario**\n",
        "En este laboratorio en partícular, para el último problema **es necesario presentar bibliografía si es necesario**."
      ]
    },
    {
      "cell_type": "markdown",
      "metadata": {
        "id": "VYKXoJiXoCiS"
      },
      "source": [
        "## 1. Importe la información contenida en el siguiente enlace: \"https://raw.githubusercontent.com/totalgood/nlpia/master/src/nlpia/data/hutto_ICWSM_2014/tweets_GroundTruth.csv\" (5pts)"
      ]
    },
    {
      "cell_type": "code",
      "execution_count": 28,
      "metadata": {
        "id": "18cPUKAkoRmm"
      },
      "outputs": [
        {
          "name": "stdout",
          "output_type": "stream",
          "text": [
            "   id  sentiment                                               text\n",
            "0   1   2.726316  Somehow I was blessed with some really amazing...\n",
            "1   2   1.443299                 Yay. Another good phone interview.\n",
            "2   3   2.873684  We were 17 deep last night &amp; the love was ...\n",
            "3   4   2.857143                                     LMAO, AMAZING!\n",
            "4   5  -2.154639  Two words that should die this year: Sexting a...\n"
          ]
        }
      ],
      "source": [
        "import pandas as pd\n",
        "url = \"https://raw.githubusercontent.com/totalgood/nlpia/master/src/nlpia/data/hutto_ICWSM_2014/tweets_GroundTruth.csv\"\n",
        "df = pd.read_csv(url)\n",
        "print(df.head())"
      ]
    },
    {
      "cell_type": "markdown",
      "metadata": {
        "id": "9NoO6xKtoTyS"
      },
      "source": [
        "## 2. Prepare los datos para ser tokenizada y posteriormente entrenada y evaluada. (15pts)"
      ]
    },
    {
      "cell_type": "code",
      "execution_count": 29,
      "metadata": {
        "id": "Ivtk4e25odnY"
      },
      "outputs": [],
      "source": [
        "import pandas as pd\n",
        "import re\n",
        "from nltk.tokenize import TweetTokenizer\n",
        "from sklearn.model_selection import train_test_split\n",
        "from sklearn.feature_extraction.text import TfidfVectorizer\n",
        "from sklearn.linear_model import LogisticRegression\n",
        "from sklearn.metrics import accuracy_score"
      ]
    },
    {
      "cell_type": "code",
      "execution_count": 30,
      "metadata": {},
      "outputs": [
        {
          "data": {
            "text/html": [
              "<div>\n",
              "<style scoped>\n",
              "    .dataframe tbody tr th:only-of-type {\n",
              "        vertical-align: middle;\n",
              "    }\n",
              "\n",
              "    .dataframe tbody tr th {\n",
              "        vertical-align: top;\n",
              "    }\n",
              "\n",
              "    .dataframe thead th {\n",
              "        text-align: right;\n",
              "    }\n",
              "</style>\n",
              "<table border=\"1\" class=\"dataframe\">\n",
              "  <thead>\n",
              "    <tr style=\"text-align: right;\">\n",
              "      <th></th>\n",
              "      <th>id</th>\n",
              "      <th>sentiment</th>\n",
              "      <th>text</th>\n",
              "      <th>clean_text</th>\n",
              "    </tr>\n",
              "  </thead>\n",
              "  <tbody>\n",
              "    <tr>\n",
              "      <th>0</th>\n",
              "      <td>1</td>\n",
              "      <td>2.726316</td>\n",
              "      <td>Somehow I was blessed with some really amazing...</td>\n",
              "      <td>somehow i was blessed with some really amazing...</td>\n",
              "    </tr>\n",
              "    <tr>\n",
              "      <th>1</th>\n",
              "      <td>2</td>\n",
              "      <td>1.443299</td>\n",
              "      <td>Yay. Another good phone interview.</td>\n",
              "      <td>yay another good phone interview</td>\n",
              "    </tr>\n",
              "    <tr>\n",
              "      <th>2</th>\n",
              "      <td>3</td>\n",
              "      <td>2.873684</td>\n",
              "      <td>We were 17 deep last night &amp;amp; the love was ...</td>\n",
              "      <td>we were 17 deep last night amp the love was so...</td>\n",
              "    </tr>\n",
              "    <tr>\n",
              "      <th>3</th>\n",
              "      <td>4</td>\n",
              "      <td>2.857143</td>\n",
              "      <td>LMAO, AMAZING!</td>\n",
              "      <td>lmao amazing</td>\n",
              "    </tr>\n",
              "    <tr>\n",
              "      <th>4</th>\n",
              "      <td>5</td>\n",
              "      <td>-2.154639</td>\n",
              "      <td>Two words that should die this year: Sexting a...</td>\n",
              "      <td>two words that should die this year sexting an...</td>\n",
              "    </tr>\n",
              "  </tbody>\n",
              "</table>\n",
              "</div>"
            ],
            "text/plain": [
              "   id  sentiment                                               text  \\\n",
              "0   1   2.726316  Somehow I was blessed with some really amazing...   \n",
              "1   2   1.443299                 Yay. Another good phone interview.   \n",
              "2   3   2.873684  We were 17 deep last night &amp; the love was ...   \n",
              "3   4   2.857143                                     LMAO, AMAZING!   \n",
              "4   5  -2.154639  Two words that should die this year: Sexting a...   \n",
              "\n",
              "                                          clean_text  \n",
              "0  somehow i was blessed with some really amazing...  \n",
              "1                   yay another good phone interview  \n",
              "2  we were 17 deep last night amp the love was so...  \n",
              "3                                       lmao amazing  \n",
              "4  two words that should die this year sexting an...  "
            ]
          },
          "execution_count": 30,
          "metadata": {},
          "output_type": "execute_result"
        }
      ],
      "source": [
        "df_clean = df.copy()\n",
        "\n",
        "# Función de limpieza del texto\n",
        "def clean_text(text):\n",
        "    text = text.lower()  \n",
        "    text = re.sub(r'\\s+', ' ', text) \n",
        "    text = re.sub(r'https?:\\/\\/\\S+', '', text)  \n",
        "    text = re.sub(r'@\\w+', '', text) \n",
        "    text = re.sub(r'#\\w+', '', text)  \n",
        "    text = re.sub(r'[^a-z0-9\\s]', '', text)\n",
        "    return text.strip()  \n",
        "\n",
        "df_clean['clean_text'] = df_clean['text'].astype(str).apply(clean_text)\n",
        "\n",
        "df_clean.head()"
      ]
    },
    {
      "cell_type": "markdown",
      "metadata": {
        "id": "uejSeSDbojIG"
      },
      "source": [
        "## 3. Investigue sobre los tipos de tokenizadores que tiene la librería nltk. En un comentario explique brevemente en que se basó para escoger el que consideró correcto. (5pts)"
      ]
    },
    {
      "cell_type": "markdown",
      "metadata": {},
      "source": [
        "Los tokenizadores en si ayudan a dividir los textos en segmentos más pequeños. Esta division se puede realizar de distintas maneras: por palabras, letras, palabras con simbolos, oraciones, etc. La libreria nltk, tiene varios tokenizadores. Algunos son los que se mencionaron anteriormente, pero algunos que me parecieron interesantes fueron \"Regexp Tokenizer\" que permite tokenizar con expresiones regulares, y \"Tweet tokenizer\", que permite tokenizar textos de redes sociales, los cuales incluyen símbolos arrobas, hashtags, abreviaciones, emojis, etc. En este trabajo se utilizaran los tokenizadores de Tweet, debido a que la naturaleza de los textos parecen ser de opiniones de redes sociales.\n"
      ]
    },
    {
      "cell_type": "markdown",
      "metadata": {
        "id": "4HiywFaLtyOj"
      },
      "source": [
        "## 4. Cree un modelo para determinar los sentimientos de cada uno de los textos en la base de datos, partiendo de lo obtenido a través de la tokenización. Responda: (15pts)\n"
      ]
    },
    {
      "cell_type": "code",
      "execution_count": 32,
      "metadata": {},
      "outputs": [
        {
          "name": "stdout",
          "output_type": "stream",
          "text": [
            "accuracy: 0.8172362555720654\n"
          ]
        }
      ],
      "source": [
        "\n",
        "# Función de limpieza del texto\n",
        "def clean_text(text):\n",
        "    text = text.lower()\n",
        "    text = re.sub(r'\\s+', ' ', text)\n",
        "    text = re.sub(r'https?:\\/\\/\\S+', '', text)\n",
        "    text = re.sub(r'@\\w+', '', text)\n",
        "    text = re.sub(r'#\\w+', '', text)\n",
        "    text = re.sub(r'[^a-z0-9\\s]', '', text)\n",
        "    return text.strip()\n",
        "\n",
        "\n",
        "df_clean['clean_text'] = df_clean['text'].astype(str).apply(clean_text)\n",
        "def clasificar_binario(score):\n",
        "    if score > 0.5:\n",
        "        return 1  # positivo\n",
        "    elif score < -0.5:\n",
        "        return 0  # negativo\n",
        "    else:\n",
        "        return None  # neutral (será eliminado)\n",
        "\n",
        "df_clean['sentiment_binary'] = df_clean['sentiment'].apply(clasificar_binario)\n",
        "df_clean = df_clean.dropna(subset=['sentiment_binary'])\n",
        "\n",
        "# Tokenización con TweetTokenizer\n",
        "tokenizer = TweetTokenizer()\n",
        "df_clean['tokens'] = df_clean['clean_text'].apply(tokenizer.tokenize)\n",
        "df_clean['text_for_model'] = df_clean['tokens'].apply(lambda tokens: ' '.join(tokens))\n",
        "\n",
        "# División en conjunto de entrenamiento y prueba\n",
        "X_train, X_test, y_train, y_test = train_test_split(\n",
        "    df_clean['text_for_model'], df_clean['sentiment_binary'], test_size=0.2, random_state=42\n",
        ")\n",
        "\n",
        "# Vectorización \n",
        "vectorizer = TfidfVectorizer()\n",
        "X_train_vec = vectorizer.fit_transform(X_train)\n",
        "X_test_vec = vectorizer.transform(X_test)\n",
        "\n",
        "# Modelo (RL)\n",
        "log_model = LogisticRegression(max_iter=1000)\n",
        "log_model.fit(X_train_vec, y_train)\n",
        "y_pred = log_model.predict(X_test_vec)\n",
        "accuracy = accuracy_score(y_test, y_pred)\n",
        "print(\"accuracy:\", accuracy)\n",
        "\n",
        "\n"
      ]
    },
    {
      "cell_type": "markdown",
      "metadata": {},
      "source": [
        "## 5. ¿Qué tipo de problema de Machine Learning es?"
      ]
    },
    {
      "cell_type": "markdown",
      "metadata": {},
      "source": [
        "Regresión logística, un modelo de clasificacion supervisada que predice si el tweet tiene sentimiento positivo o negativo. "
      ]
    },
    {
      "cell_type": "markdown",
      "metadata": {
        "id": "NHUGVaOErz5y"
      },
      "source": [
        "![bitepair.png](data:image/png;base64,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)"
      ]
    },
    {
      "cell_type": "markdown",
      "metadata": {
        "id": "X4R2qqHmsdqo"
      },
      "source": [
        "# 6. \n",
        "\n",
        "En La imagen anterior se muestra el algoritmo BPE visto en clase en seudo-código. El objetivo de este ejercicio es programarlo, desde 0, en Python. En este caso la calidad y limpieza del código si será tomada en cuenta.(60pts)\n",
        "\n",
        " Un detalle que no se menciono en clase es que los pares obtenidos pueden ser de la siguiente forma:\n",
        "\"bd\" esta en el vocabulario. A través del proceso iterativo se ve que un el par más repetido es \"bd\" + \"c\", por lo tanto \"bdc\" entra al vocabulario. El pareo en BTE es por elementos del vocabulario, no por caracteres.\n",
        "\n",
        "Este problema se encuentra fácilmente en internet. Pero los insto a retarse un poco a la hora de intentar resolverlo. Se presentarán situaciones donde la biblografía puede ser escasa, así que poder leer un algoritmo y programarlo es una habilidad importante."
      ]
    },
    {
      "cell_type": "code",
      "execution_count": 35,
      "metadata": {
        "id": "rjkg9f9nuelU"
      },
      "outputs": [],
      "source": [
        "#Texto que se debe tokenizar a través de BPE\n",
        "text = \"Imagina que intentas enseñar a leer a un niño. En lugar de introducirles directamente en párrafos complejos, empezaría introduciéndoles letras sueltas, luego sílabas y, por último, palabras enteras. De forma similar, la tokenización descompone grandes extensiones de texto en unidades más digeribles y comprensibles para las máquinas. El objetivo principal de la tokenización es representar el texto de forma que tenga sentido para las máquinas sin perder su contexto. Al convertir el texto en tokens, los algoritmos pueden identificar patrones más fácilmente. Este reconocimiento de patrones es crucial porque hace posible que las máquinas entiendan y respondan a la información humana. Por ejemplo, cuando una máquina encuentra la palabra correr, no la ve como una entidad singular, sino como una combinación de tokens que puede analizar y de la que puede extraer un significado.\"\n",
        "corpus = text.split(\".\")"
      ]
    },
    {
      "cell_type": "code",
      "execution_count": null,
      "metadata": {
        "colab": {
          "base_uri": "https://localhost:8080/"
        },
        "id": "pWq8M8s1_LvG",
        "outputId": "eed8847b-0b02-446b-962c-90cd91aeefe8"
      },
      "outputs": [
        {
          "data": {
            "text/plain": [
              "['Imagina que intentas enseñar a leer a un niño',\n",
              " ' En lugar de introducirles directamente en párrafos complejos, empezaría introduciéndoles letras sueltas, luego sílabas y, por último, palabras enteras',\n",
              " ' De forma similar, la tokenización descompone grandes extensiones de texto en unidades más digeribles y comprensibles para las máquinas',\n",
              " ' El objetivo principal de la tokenización es representar el texto de forma que tenga sentido para las máquinas sin perder su contexto',\n",
              " ' Al convertir el texto en tokens, los algoritmos pueden identificar patrones más fácilmente',\n",
              " ' Este reconocimiento de patrones es crucial porque hace posible que las máquinas entiendan y respondan a la información humana',\n",
              " ' Por ejemplo, cuando una máquina encuentra la palabra correr, no la ve como una entidad singular, sino como una combinación de tokens que puede analizar y de la que puede extraer un significado',\n",
              " '']"
            ]
          },
          "execution_count": 3,
          "metadata": {},
          "output_type": "execute_result"
        }
      ],
      "source": [
        "corpus"
      ]
    },
    {
      "cell_type": "markdown",
      "metadata": {},
      "source": [
        "### Resultado"
      ]
    },
    {
      "cell_type": "code",
      "execution_count": 52,
      "metadata": {},
      "outputs": [
        {
          "name": "stdout",
          "output_type": "stream",
          "text": [
            "\n",
            " Oración 1: Imagina que intentas enseñar a leer a un niño\n",
            "BPE Tokens: ['I', 'm', 'a', 'g', 'in', 'a</w>', 'que</w>', 'in', 't', 'ent', 'as</w>', 'en', 's', 'e', 'ñ', 'a', 'r</w>', 'a</w>', 'l', 'e', 'e', 'r</w>', 'a</w>', 'u', 'n</w>', 'n', 'i', 'ñ', 'o</w>']\n",
            "\n",
            " Oración 2: En lugar de introducirles directamente en párrafos complejos, empezaría introduciéndoles letras sueltas, luego sílabas y, por último, palabras enteras\n",
            "BPE Tokens: ['E', 'n</w>', 'l', 'u', 'g', 'a', 'r</w>', 'de</w>', 'in', 'tr', 'o', 'd', 'u', 'ci', 'r', 'l', 'es</w>', 'd', 'i', 're', 'c', 't', 'a', 'm', 'ent', 'e</w>', 'en', '</w>', 'p', 'á', 'r', 'r', 'a', 'f', 'o', 's</w>', 'co', 'm', 'p', 'l', 'e', 'j', 'o', 's', ',</w>', 'e', 'm', 'p', 'e', 'z', 'a', 'r', 'í', 'a</w>', 'in', 'tr', 'o', 'd', 'u', 'ci', 'é', 'n', 'd', 'o', 'l', 'es</w>', 'l', 'e', 'tr', 'as</w>', 's', 'u', 'e', 'l', 't', 'a', 's', ',</w>', 'l', 'u', 'e', 'g', 'o</w>', 's', 'í', 'l', 'a', 'b', 'as</w>', 'y', ',</w>', 'p', 'o', 'r</w>', 'ú', 'l', 't', 'i', 'm', 'o', ',</w>', 'pa', 'l', 'a', 'b', 'r', 'as</w>', 'ent', 'e', 'r', 'as</w>']\n",
            "\n",
            " Oración 3: De forma similar, la tokenización descompone grandes extensiones de texto en unidades más digeribles y comprensibles para las máquinas\n",
            "BPE Tokens: ['D', 'e</w>', 'f', 'o', 'r', 'm', 'a</w>', 's', 'i', 'm', 'i', 'l', 'a', 'r', ',</w>', 'l', 'a</w>', 't', 'o', 'k', 'en', 'i', 'z', 'a', 'ci', 'ó', 'n</w>', 'd', 'e', 's', 'co', 'm', 'p', 'o', 'n', 'e</w>', 'g', 'r', 'a', 'n', 'd', 'es</w>', 'e', 'x', 't', 'en', 's', 'i', 'o', 'n', 'es</w>', 'de</w>', 't', 'e', 'x', 't', 'o</w>', 'en', '</w>', 'u', 'n', 'i', 'd', 'a', 'd', 'es</w>', 'm', 'á', 's</w>', 'd', 'i', 'g', 'e', 'r', 'i', 'b', 'l', 'es</w>', 'y', '</w>', 'co', 'm', 'p', 'r', 'en', 's', 'i', 'b', 'l', 'es</w>', 'pa', 'r', 'a</w>', 'l', 'as</w>', 'm', 'á', 'qu', 'in', 'as</w>']\n",
            "\n",
            " Oración 4: El objetivo principal de la tokenización es representar el texto de forma que tenga sentido para las máquinas sin perder su contexto\n",
            "BPE Tokens: ['E', 'l', '</w>', 'o', 'b', 'j', 'e', 't', 'i', 'v', 'o</w>', 'p', 'r', 'in', 'ci', 'pa', 'l', '</w>', 'de</w>', 'l', 'a</w>', 't', 'o', 'k', 'en', 'i', 'z', 'a', 'ci', 'ó', 'n</w>', 'es</w>', 're', 'p', 're', 's', 'ent', 'a', 'r</w>', 'e', 'l', '</w>', 't', 'e', 'x', 't', 'o</w>', 'de</w>', 'f', 'o', 'r', 'm', 'a</w>', 'que</w>', 't', 'en', 'g', 'a</w>', 's', 'ent', 'i', 'd', 'o</w>', 'pa', 'r', 'a</w>', 'l', 'as</w>', 'm', 'á', 'qu', 'in', 'as</w>', 's', 'in', '</w>', 'p', 'e', 'r', 'd', 'e', 'r</w>', 's', 'u', '</w>', 'co', 'n', 't', 'e', 'x', 't', 'o</w>']\n",
            "\n",
            " Oración 5: Al convertir el texto en tokens, los algoritmos pueden identificar patrones más fácilmente\n",
            "BPE Tokens: ['A', 'l', '</w>', 'co', 'n', 'v', 'e', 'r', 't', 'i', 'r</w>', 'e', 'l', '</w>', 't', 'e', 'x', 't', 'o</w>', 'en', '</w>', 't', 'o', 'k', 'en', 's', ',</w>', 'l', 'o', 's</w>', 'a', 'l', 'g', 'o', 'r', 'i', 't', 'm', 'o', 's</w>', 'p', 'u', 'e', 'd', 'en', '</w>', 'i', 'd', 'ent', 'i', 'f', 'i', 'c', 'a', 'r</w>', 'pa', 'tr', 'o', 'n', 'es</w>', 'm', 'á', 's</w>', 'f', 'á', 'ci', 'l', 'm', 'ent', 'e</w>']\n",
            "\n",
            " Oración 6: Este reconocimiento de patrones es crucial porque hace posible que las máquinas entiendan y respondan a la información humana\n",
            "BPE Tokens: ['E', 's', 't', 'e</w>', 're', 'co', 'n', 'o', 'ci', 'm', 'i', 'ent', 'o</w>', 'de</w>', 'pa', 'tr', 'o', 'n', 'es</w>', 'es</w>', 'c', 'r', 'u', 'ci', 'a', 'l', '</w>', 'p', 'o', 'r', 'que</w>', 'h', 'a', 'c', 'e</w>', 'p', 'o', 's', 'i', 'b', 'l', 'e</w>', 'que</w>', 'l', 'as</w>', 'm', 'á', 'qu', 'in', 'as</w>', 'ent', 'i', 'en', 'd', 'a', 'n</w>', 'y', '</w>', 're', 's', 'p', 'o', 'n', 'd', 'a', 'n</w>', 'a</w>', 'l', 'a</w>', 'in', 'f', 'o', 'r', 'm', 'a', 'ci', 'ó', 'n</w>', 'h', 'u', 'm', 'a', 'n', 'a</w>']\n",
            "\n",
            " Oración 7: Por ejemplo, cuando una máquina encuentra la palabra correr, no la ve como una entidad singular, sino como una combinación de tokens que puede analizar y de la que puede extraer un significado\n",
            "BPE Tokens: ['P', 'o', 'r</w>', 'e', 'j', 'e', 'm', 'p', 'l', 'o', ',</w>', 'c', 'u', 'a', 'n', 'd', 'o</w>', 'u', 'n', 'a</w>', 'm', 'á', 'qu', 'in', 'a</w>', 'en', 'c', 'u', 'ent', 'r', 'a</w>', 'l', 'a</w>', 'pa', 'l', 'a', 'b', 'r', 'a</w>', 'co', 'r', 're', 'r', ',</w>', 'n', 'o</w>', 'l', 'a</w>', 'v', 'e</w>', 'co', 'm', 'o</w>', 'u', 'n', 'a</w>', 'ent', 'i', 'd', 'a', 'd', '</w>', 's', 'in', 'g', 'u', 'l', 'a', 'r', ',</w>', 's', 'in', 'o</w>', 'co', 'm', 'o</w>', 'u', 'n', 'a</w>', 'co', 'm', 'b', 'in', 'a', 'ci', 'ó', 'n</w>', 'de</w>', 't', 'o', 'k', 'en', 's</w>', 'que</w>', 'p', 'u', 'e', 'de</w>', 'a', 'n', 'a', 'l', 'i', 'z', 'a', 'r</w>', 'y', '</w>', 'de</w>', 'l', 'a</w>', 'que</w>', 'p', 'u', 'e', 'de</w>', 'e', 'x', 'tr', 'a', 'e', 'r</w>', 'u', 'n</w>', 's', 'i', 'g', 'n', 'i', 'f', 'i', 'c', 'a', 'd', 'o</w>']\n"
          ]
        }
      ],
      "source": [
        "# Librerias\n",
        "import re\n",
        "from collections import defaultdict, Counter\n",
        "\n",
        "\n",
        "def get_vocab(text_lines):\n",
        "    vocab = defaultdict(int)\n",
        "    for line in text_lines:\n",
        "        for word in line.strip().split():\n",
        "            tokens = list(word) + ['</w>']\n",
        "            vocab[tuple(tokens)] += 1\n",
        "    return vocab\n",
        "\n",
        "# Obtener parejas\n",
        "def get_pair_freqs(vocab):\n",
        "    freqs = Counter()\n",
        "    for tokens, freq in vocab.items():\n",
        "        for a, b in zip(tokens, tokens[1:]):\n",
        "            freqs[(a, b)] += freq\n",
        "    return freqs\n",
        "\n",
        "# Merge de parejas\n",
        "def merge_pair(pair, vocab):\n",
        "    new_vocab = {}\n",
        "    a, b = pair\n",
        "    merged = a + b\n",
        "    for tokens, freq in vocab.items():\n",
        "        new_tokens = []\n",
        "        i = 0\n",
        "        while i < len(tokens):\n",
        "            if i < len(tokens) - 1 and tokens[i] == a and tokens[i + 1] == b:\n",
        "                new_tokens.append(merged)\n",
        "                i += 2\n",
        "            else:\n",
        "                new_tokens.append(tokens[i])\n",
        "                i += 1\n",
        "        new_vocab[tuple(new_tokens)] = freq\n",
        "    return new_vocab\n",
        "\n",
        "#  BPE\n",
        "def bpe(corpus, num_merges):\n",
        "    vocab = get_vocab(corpus)\n",
        "    merges = []\n",
        "    for i in range(num_merges):\n",
        "        pairs = get_pair_freqs(vocab)\n",
        "        if not pairs:\n",
        "            break\n",
        "        best_pair = max(pairs, key=pairs.get)\n",
        "        merges.append(best_pair)\n",
        "        vocab = merge_pair(best_pair, vocab)\n",
        "    return merges\n",
        "\n",
        "# Aplicar BPE\n",
        "def apply_bpe_to_sentence(sentence, merges):\n",
        "    words = sentence.strip().split()\n",
        "    tokenized = []\n",
        "    for word in words:\n",
        "        tokens = list(word) + ['</w>']\n",
        "        for a, b in merges:\n",
        "            i = 0\n",
        "            while i < len(tokens) - 1:\n",
        "                if tokens[i] == a and tokens[i + 1] == b:\n",
        "                    tokens = tokens[:i] + [a + b] + tokens[i + 2:]\n",
        "                    i = max(i - 1, 0)\n",
        "                else:\n",
        "                    i += 1\n",
        "        tokenized.extend(tokens)\n",
        "    return tokenized\n",
        "\n",
        "\n",
        "# Texto y Corpus para BPE\n",
        "text = \"\"\"Imagina que intentas enseñar a leer a un niño. En lugar de introducirles directamente en párrafos complejos, empezaría introduciéndoles letras sueltas, luego sílabas y, por último, palabras enteras. De forma similar, la tokenización descompone grandes extensiones de texto en unidades más digeribles y comprensibles para las máquinas. El objetivo principal de la tokenización es representar el texto de forma que tenga sentido para las máquinas sin perder su contexto. Al convertir el texto en tokens, los algoritmos pueden identificar patrones más fácilmente. Este reconocimiento de patrones es crucial porque hace posible que las máquinas entiendan y respondan a la información humana. Por ejemplo, cuando una máquina encuentra la palabra correr, no la ve como una entidad singular, sino como una combinación de tokens que puede analizar y de la que puede extraer un significado.\"\"\"\n",
        "corpus = text.split(\".\")\n",
        "\n",
        "# Merges\n",
        "k = 20\n",
        "merges = bpe(corpus, num_merges=k)\n",
        "\n",
        "#Pseudocodigo\n",
        "for i, sentence in enumerate(corpus):\n",
        "    if sentence.strip():\n",
        "        tokens = apply_bpe_to_sentence(sentence, merges)\n",
        "        print(f\"\\n Oración {i+1}: {sentence.strip()}\")\n",
        "        print(f\"BPE Tokens: {tokens}\")\n",
        " "
      ]
    },
    {
      "cell_type": "markdown",
      "metadata": {},
      "source": [
        "# Bibliografia\n",
        "\n"
      ]
    },
    {
      "cell_type": "markdown",
      "metadata": {},
      "source": [
        "Hugging Face. (s.f.). Tokenización basada en pares de bytes (BPE). Hugging Face LLM Course. Recuperado de: https://huggingface.co/learn/llm-course/es/chapter6/5\n",
        "\n",
        "Pulapakura, R. (2024). [YouTube] Byte Pair Encoding - How does the BPE algorithm work? - Step by Step Guide. Recuperado de: https://www.youtube.com/watch?v=BcxJk4WQVIw\n",
        "\n",
        "Khana, C. (2021) Word, Subword, and Character-Based Tokenization: Know the Difference. Towards Data Science. Recuperado de: https://towardsdatascience.com/word-subword-and-character-based-tokenization-know-the-difference-ea0976b64e17/"
      ]
    }
  ],
  "metadata": {
    "colab": {
      "provenance": []
    },
    "kernelspec": {
      "display_name": "Python 3",
      "name": "python3"
    },
    "language_info": {
      "codemirror_mode": {
        "name": "ipython",
        "version": 3
      },
      "file_extension": ".py",
      "mimetype": "text/x-python",
      "name": "python",
      "nbconvert_exporter": "python",
      "pygments_lexer": "ipython3",
      "version": "3.9.13"
    }
  },
  "nbformat": 4,
  "nbformat_minor": 0
}
